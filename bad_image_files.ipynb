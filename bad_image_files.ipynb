{
 "cells": [
  {
   "cell_type": "code",
   "execution_count": 27,
   "metadata": {},
   "outputs": [],
   "source": [
    "import numpy as np\n",
    "import sys\n",
    "import os\n",
    "import glob\n",
    "import exiftool\n",
    "import base64\n",
    "import struct\n",
    "from pprint import pprint\n",
    "from matplotlib import pyplot as plt\n",
    "from glob import glob\n",
    "import pyexif\n",
    "import pyexif2\n",
    "import shutil"
   ]
  },
  {
   "cell_type": "code",
   "execution_count": 2,
   "metadata": {},
   "outputs": [],
   "source": [
    "#tags = [ irradiance_list_tag, irradiance_calibration_measurement_tag ]\n",
    "et_path = r'C:\\Image-ExifTool-10.33\\exiftool(-k).exe' # HIVE machine\n",
    "et_path = r'C:\\software\\exiftool\\exiftool.exe'"
   ]
  },
  {
   "cell_type": "code",
   "execution_count": 3,
   "metadata": {
    "scrolled": false
   },
   "outputs": [],
   "source": [
    "im_files=glob(r\"D:\\projects\\uav\\asprs2020\\goldhill_switzerland_trail_01212019\\cal1_f1_MS\\cal_490\\*.tif\")\n",
    "\n",
    "good_490, bad_490 = [], []\n",
    "with exiftool.ExifTool(et_path) as et:\n",
    "    #pprint(dir(et))\n",
    "    #pprint(et.get_metadata(im_file))\n",
    "    #print(help(et.get_tag))\n",
    "    \n",
    "    for im_file in im_files:\n",
    "        cam_model = et.get_tag('EXIF:Model', im_file)\n",
    "        if cam_model is None:\n",
    "            bad_490.append(os.path.basename(im_file))\n",
    "        else:\n",
    "            good_490.append((os.path.basename(im_file), cam_model))\n",
    "        "
   ]
  },
  {
   "cell_type": "code",
   "execution_count": 4,
   "metadata": {},
   "outputs": [],
   "source": [
    "im_files=glob(r\"D:\\projects\\uav\\asprs2020\\goldhill_switzerland_trail_01212019\\cal1_f1_MS\\cal_550\\*.tif\")\n",
    "\n",
    "good_550, bad_550 = [], []\n",
    "with exiftool.ExifTool(et_path) as et:\n",
    "    #pprint(dir(et))\n",
    "    #pprint(et.get_metadata(im_file))\n",
    "    #print(help(et.get_tag))\n",
    "    \n",
    "    for im_file in im_files:\n",
    "        cam_model = et.get_tag('EXIF:Model', im_file)\n",
    "        if cam_model is None:\n",
    "            bad_550.append(os.path.basename(im_file))\n",
    "        else:\n",
    "            good_550.append((os.path.basename(im_file), cam_model))\n",
    "        "
   ]
  },
  {
   "cell_type": "code",
   "execution_count": 5,
   "metadata": {},
   "outputs": [],
   "source": [
    "im_files=glob(r\"D:\\projects\\uav\\asprs2020\\goldhill_switzerland_trail_01212019\\cal1_f1_MS\\cal_650\\*.tif\")\n",
    "\n",
    "good_650, bad_650 = [], []\n",
    "with exiftool.ExifTool(et_path) as et:\n",
    "    #pprint(dir(et))\n",
    "    #pprint(et.get_metadata(im_file))\n",
    "    #print(help(et.get_tag))\n",
    "    \n",
    "    for im_file in im_files:\n",
    "        cam_model = et.get_tag('EXIF:Model', im_file)\n",
    "        if cam_model is None:\n",
    "            bad_650.append(os.path.basename(im_file))\n",
    "        else:\n",
    "            good_650.append((os.path.basename(im_file), cam_model))\n",
    "        "
   ]
  },
  {
   "cell_type": "code",
   "execution_count": 6,
   "metadata": {},
   "outputs": [],
   "source": [
    "im_files=glob(r\"D:\\projects\\uav\\asprs2020\\goldhill_switzerland_trail_01212019\\cal1_f1_MS\\cal_725\\*.tif\")\n",
    "\n",
    "good_725, bad_725 = [], []\n",
    "with exiftool.ExifTool(et_path) as et:\n",
    "    #pprint(dir(et))\n",
    "    #pprint(et.get_metadata(im_file))\n",
    "    #print(help(et.get_tag))\n",
    "    \n",
    "    for im_file in im_files:\n",
    "        cam_model = et.get_tag('EXIF:Model', im_file)\n",
    "        if cam_model is None:\n",
    "            bad_725.append(os.path.basename(im_file))\n",
    "        else:\n",
    "            good_725.append((os.path.basename(im_file), cam_model))\n",
    "        "
   ]
  },
  {
   "cell_type": "code",
   "execution_count": 7,
   "metadata": {},
   "outputs": [],
   "source": [
    "im_files=glob(r\"D:\\projects\\uav\\asprs2020\\goldhill_switzerland_trail_01212019\\cal1_f1_MS\\cal_850\\*.tif\")\n",
    "\n",
    "good_850, bad_850 = [], []\n",
    "with exiftool.ExifTool(et_path) as et:\n",
    "    #pprint(dir(et))\n",
    "    #pprint(et.get_metadata(im_file))\n",
    "    #print(help(et.get_tag))\n",
    "    \n",
    "    for im_file in im_files:\n",
    "        cam_model = et.get_tag('EXIF:Model', im_file)\n",
    "        if cam_model is None:\n",
    "            bad_850.append(os.path.basename(im_file))\n",
    "        else:\n",
    "            good_850.append((os.path.basename(im_file), cam_model))\n",
    "        "
   ]
  },
  {
   "cell_type": "code",
   "execution_count": 8,
   "metadata": {},
   "outputs": [
    {
     "data": {
      "text/plain": [
       "(20, 0, 11, 0, 0)"
      ]
     },
     "execution_count": 8,
     "metadata": {},
     "output_type": "execute_result"
    }
   ],
   "source": [
    "len(bad_490), len(bad_550), len(bad_650), len(bad_725), len(bad_850)"
   ]
  },
  {
   "cell_type": "code",
   "execution_count": null,
   "metadata": {},
   "outputs": [],
   "source": [
    "good_cam_model = 'Kernel 3.2MP'\n",
    "im_files=glob(r\"D:\\projects\\uav\\asprs2020\\goldhill_switzerland_trail_01212019\\cal1_f1_MS\\cal_490\\*.tif\")\n",
    "\n",
    "with exiftool.ExifTool(et_path) as et:\n",
    "    #pprint(dir(et))\n",
    "    #pprint(et.get_metadata(im_file))\n",
    "    #print(help(et.get_tag))\n",
    "    \n",
    "    for im_file in im_files:\n",
    "        cam_model = et.get_tag('EXIF:Model', im_file)\n",
    "        if cam_model is None:\n",
    "            bad_490.append(os.path.basename(im_file))\n",
    "            et.setTag()\n",
    "        else:\n",
    "            good_490.append((os.path.basename(im_file), cam_model))\n",
    "        "
   ]
  },
  {
   "cell_type": "code",
   "execution_count": 12,
   "metadata": {},
   "outputs": [
    {
     "data": {
      "text/plain": [
       "('P85000793_CALIBRATED.tif', 'Kernel 3.2MP')"
      ]
     },
     "execution_count": 12,
     "metadata": {},
     "output_type": "execute_result"
    }
   ],
   "source": [
    "good_850[0]"
   ]
  },
  {
   "cell_type": "code",
   "execution_count": 26,
   "metadata": {},
   "outputs": [
    {
     "name": "stdout",
     "output_type": "stream",
     "text": [
      "'Kernel\n",
      "'Kernel 3.2MP'\n"
     ]
    }
   ],
   "source": [
    "img_exif = pyexif2.ExifEditor(r\"C:\\software\\exiftool\\P55000797_CALIBRATED.tif\")\n",
    "print(img_exif.getTag('Model'))\n",
    "img_exif.setTag('Model', '\"Kernel 3.2MP\"'.strip(\"''\"))\n",
    "print(img_exif.getTag('Model'))"
   ]
  },
  {
   "cell_type": "code",
   "execution_count": 16,
   "metadata": {},
   "outputs": [
    {
     "name": "stdout",
     "output_type": "stream",
     "text": [
      "Help on method setTag in module pyexif2:\n",
      "\n",
      "setTag(tag, val) method of pyexif2.ExifEditor instance\n",
      "    Sets the specified tag to the passed value. You can set multiple values\n",
      "    for the same tag by passing those values in as a list.\n",
      "\n"
     ]
    }
   ],
   "source": [
    "help(img_exif.setTag)"
   ]
  },
  {
   "cell_type": "markdown",
   "metadata": {},
   "source": [
    "# copy the bad 490 and 650 images first into a temp directory"
   ]
  },
  {
   "cell_type": "code",
   "execution_count": 28,
   "metadata": {},
   "outputs": [],
   "source": [
    "dir490=r\"D:\\projects\\uav\\asprs2020\\goldhill_switzerland_trail_01212019\\cal1_f1_MS\\cal_490\"\n",
    "for i in bad_490:\n",
    "    shutil.copy(os.path.join(dir490, i), os.path.join(r'C:\\tmp', i))"
   ]
  },
  {
   "cell_type": "code",
   "execution_count": 29,
   "metadata": {},
   "outputs": [],
   "source": [
    "dir650=r\"D:\\projects\\uav\\asprs2020\\goldhill_switzerland_trail_01212019\\cal1_f1_MS\\cal_650\"\n",
    "for i in bad_650:\n",
    "    shutil.copy(os.path.join(dir650, i), os.path.join(r'C:\\tmp', i))"
   ]
  },
  {
   "cell_type": "markdown",
   "metadata": {},
   "source": [
    "# now replace the metadata tag"
   ]
  },
  {
   "cell_type": "code",
   "execution_count": 30,
   "metadata": {},
   "outputs": [],
   "source": [
    "dir490=r\"D:\\projects\\uav\\asprs2020\\goldhill_switzerland_trail_01212019\\cal1_f1_MS\\cal_490\"\n",
    "for i in bad_490:\n",
    "    img_fi = os.path.join(dir490, i)\n",
    "    img_exif.setTag('Model', '\"Kernel 3.2MP\"')"
   ]
  },
  {
   "cell_type": "code",
   "execution_count": 31,
   "metadata": {},
   "outputs": [],
   "source": [
    "dir650=r\"D:\\projects\\uav\\asprs2020\\goldhill_switzerland_trail_01212019\\cal1_f1_MS\\cal_650\"\n",
    "for i in bad_650:\n",
    "    img_fi = os.path.join(dir650, i)\n",
    "    img_exif.setTag('Model', '\"Kernel 3.2MP\"')"
   ]
  },
  {
   "cell_type": "code",
   "execution_count": 33,
   "metadata": {},
   "outputs": [
    {
     "data": {
      "text/plain": [
       "['P49000808_CALIBRATED.tif',\n",
       " 'P49000810_CALIBRATED.tif',\n",
       " 'P49000812_CALIBRATED.tif',\n",
       " 'P49000815_CALIBRATED.tif',\n",
       " 'P49000821_CALIBRATED.tif',\n",
       " 'P49000825_CALIBRATED.tif',\n",
       " 'P49000827_CALIBRATED.tif',\n",
       " 'P49000830_CALIBRATED.tif',\n",
       " 'P49000832_CALIBRATED.tif',\n",
       " 'P49000834_CALIBRATED.tif',\n",
       " 'P49000837_CALIBRATED.tif',\n",
       " 'P49000840_CALIBRATED.tif',\n",
       " 'P49000843_CALIBRATED.tif',\n",
       " 'P49000848_CALIBRATED.tif',\n",
       " 'P49000850_CALIBRATED.tif',\n",
       " 'P49000853_CALIBRATED.tif',\n",
       " 'P49000856_CALIBRATED.tif',\n",
       " 'P49000859_CALIBRATED.tif',\n",
       " 'P49000864_CALIBRATED.tif',\n",
       " 'P49000867_CALIBRATED.tif']"
      ]
     },
     "execution_count": 33,
     "metadata": {},
     "output_type": "execute_result"
    }
   ],
   "source": [
    "bad_490"
   ]
  },
  {
   "cell_type": "code",
   "execution_count": 34,
   "metadata": {},
   "outputs": [
    {
     "data": {
      "text/plain": [
       "['P65000821_CALIBRATED.tif',\n",
       " 'P65000823_CALIBRATED.tif',\n",
       " 'P65000825_CALIBRATED.tif',\n",
       " 'P65000841_CALIBRATED.tif',\n",
       " 'P65000845_CALIBRATED.tif',\n",
       " 'P65000849_CALIBRATED.tif',\n",
       " 'P65000853_CALIBRATED.tif',\n",
       " 'P65000855_CALIBRATED.tif',\n",
       " 'P65000859_CALIBRATED.tif',\n",
       " 'P65000863_CALIBRATED.tif',\n",
       " 'P65000865_CALIBRATED.tif']"
      ]
     },
     "execution_count": 34,
     "metadata": {},
     "output_type": "execute_result"
    }
   ],
   "source": [
    "bad_650"
   ]
  },
  {
   "cell_type": "code",
   "execution_count": null,
   "metadata": {},
   "outputs": [],
   "source": []
  }
 ],
 "metadata": {
  "kernelspec": {
   "display_name": "Python3 (eapy_gbdx)",
   "language": "python",
   "name": "eapy_gbdx"
  },
  "language_info": {
   "codemirror_mode": {
    "name": "ipython",
    "version": 3
   },
   "file_extension": ".py",
   "mimetype": "text/x-python",
   "name": "python",
   "nbconvert_exporter": "python",
   "pygments_lexer": "ipython3",
   "version": "3.6.7"
  }
 },
 "nbformat": 4,
 "nbformat_minor": 2
}
