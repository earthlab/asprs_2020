{
 "cells": [
  {
   "cell_type": "code",
   "execution_count": 1,
   "metadata": {},
   "outputs": [],
   "source": [
    "import numpy as np\n",
    "import sys\n",
    "import os\n",
    "import glob\n",
    "import exiftool\n",
    "import base64\n",
    "import struct\n",
    "from pprint import pprint\n",
    "from matplotlib import pyplot as plt\n",
    "from glob import glob\n",
    "import pyexif\n",
    "import pyexif2"
   ]
  },
  {
   "cell_type": "code",
   "execution_count": 2,
   "metadata": {},
   "outputs": [],
   "source": [
    "#tags = [ irradiance_list_tag, irradiance_calibration_measurement_tag ]\n",
    "et_path = r'C:\\Image-ExifTool-10.33\\exiftool(-k).exe' # HIVE machine\n",
    "et_path = r'C:\\software\\exiftool\\exiftool.exe'"
   ]
  },
  {
   "cell_type": "code",
   "execution_count": 3,
   "metadata": {
    "scrolled": false
   },
   "outputs": [],
   "source": [
    "im_files=glob(r\"D:\\projects\\uav\\asprs2020\\goldhill_switzerland_trail_01212019\\cal1_f1_MS\\cal_490\\*.tif\")\n",
    "\n",
    "good_490, bad_490 = [], []\n",
    "with exiftool.ExifTool(et_path) as et:\n",
    "    #pprint(dir(et))\n",
    "    #pprint(et.get_metadata(im_file))\n",
    "    #print(help(et.get_tag))\n",
    "    \n",
    "    for im_file in im_files:\n",
    "        cam_model = et.get_tag('EXIF:Model', im_file)\n",
    "        if cam_model is None:\n",
    "            bad_490.append(os.path.basename(im_file))\n",
    "        else:\n",
    "            good_490.append((os.path.basename(im_file), cam_model))\n",
    "        "
   ]
  },
  {
   "cell_type": "code",
   "execution_count": 4,
   "metadata": {},
   "outputs": [],
   "source": [
    "im_files=glob(r\"D:\\projects\\uav\\asprs2020\\goldhill_switzerland_trail_01212019\\cal1_f1_MS\\cal_550\\*.tif\")\n",
    "\n",
    "good_550, bad_550 = [], []\n",
    "with exiftool.ExifTool(et_path) as et:\n",
    "    #pprint(dir(et))\n",
    "    #pprint(et.get_metadata(im_file))\n",
    "    #print(help(et.get_tag))\n",
    "    \n",
    "    for im_file in im_files:\n",
    "        cam_model = et.get_tag('EXIF:Model', im_file)\n",
    "        if cam_model is None:\n",
    "            bad_550.append(os.path.basename(im_file))\n",
    "        else:\n",
    "            good_550.append((os.path.basename(im_file), cam_model))\n",
    "        "
   ]
  },
  {
   "cell_type": "code",
   "execution_count": 5,
   "metadata": {},
   "outputs": [],
   "source": [
    "im_files=glob(r\"D:\\projects\\uav\\asprs2020\\goldhill_switzerland_trail_01212019\\cal1_f1_MS\\cal_650\\*.tif\")\n",
    "\n",
    "good_650, bad_650 = [], []\n",
    "with exiftool.ExifTool(et_path) as et:\n",
    "    #pprint(dir(et))\n",
    "    #pprint(et.get_metadata(im_file))\n",
    "    #print(help(et.get_tag))\n",
    "    \n",
    "    for im_file in im_files:\n",
    "        cam_model = et.get_tag('EXIF:Model', im_file)\n",
    "        if cam_model is None:\n",
    "            bad_650.append(os.path.basename(im_file))\n",
    "        else:\n",
    "            good_650.append((os.path.basename(im_file), cam_model))\n",
    "        "
   ]
  },
  {
   "cell_type": "code",
   "execution_count": 6,
   "metadata": {},
   "outputs": [],
   "source": [
    "im_files=glob(r\"D:\\projects\\uav\\asprs2020\\goldhill_switzerland_trail_01212019\\cal1_f1_MS\\cal_725\\*.tif\")\n",
    "\n",
    "good_725, bad_725 = [], []\n",
    "with exiftool.ExifTool(et_path) as et:\n",
    "    #pprint(dir(et))\n",
    "    #pprint(et.get_metadata(im_file))\n",
    "    #print(help(et.get_tag))\n",
    "    \n",
    "    for im_file in im_files:\n",
    "        cam_model = et.get_tag('EXIF:Model', im_file)\n",
    "        if cam_model is None:\n",
    "            bad_725.append(os.path.basename(im_file))\n",
    "        else:\n",
    "            good_725.append((os.path.basename(im_file), cam_model))\n",
    "        "
   ]
  },
  {
   "cell_type": "code",
   "execution_count": 7,
   "metadata": {},
   "outputs": [],
   "source": [
    "im_files=glob(r\"D:\\projects\\uav\\asprs2020\\goldhill_switzerland_trail_01212019\\cal1_f1_MS\\cal_850\\*.tif\")\n",
    "\n",
    "good_850, bad_850 = [], []\n",
    "with exiftool.ExifTool(et_path) as et:\n",
    "    #pprint(dir(et))\n",
    "    #pprint(et.get_metadata(im_file))\n",
    "    #print(help(et.get_tag))\n",
    "    \n",
    "    for im_file in im_files:\n",
    "        cam_model = et.get_tag('EXIF:Model', im_file)\n",
    "        if cam_model is None:\n",
    "            bad_850.append(os.path.basename(im_file))\n",
    "        else:\n",
    "            good_850.append((os.path.basename(im_file), cam_model))\n",
    "        "
   ]
  },
  {
   "cell_type": "code",
   "execution_count": 8,
   "metadata": {},
   "outputs": [
    {
     "data": {
      "text/plain": [
       "(20, 0, 11, 0, 0)"
      ]
     },
     "execution_count": 8,
     "metadata": {},
     "output_type": "execute_result"
    }
   ],
   "source": [
    "len(bad_490), len(bad_550), len(bad_650), len(bad_725), len(bad_850)"
   ]
  },
  {
   "cell_type": "code",
   "execution_count": null,
   "metadata": {},
   "outputs": [],
   "source": [
    "good_cam_model = 'Kernel 3.2MP'\n",
    "im_files=glob(r\"D:\\projects\\uav\\asprs2020\\goldhill_switzerland_trail_01212019\\cal1_f1_MS\\cal_490\\*.tif\")\n",
    "\n",
    "with exiftool.ExifTool(et_path) as et:\n",
    "    #pprint(dir(et))\n",
    "    #pprint(et.get_metadata(im_file))\n",
    "    #print(help(et.get_tag))\n",
    "    \n",
    "    for im_file in im_files:\n",
    "        cam_model = et.get_tag('EXIF:Model', im_file)\n",
    "        if cam_model is None:\n",
    "            bad_490.append(os.path.basename(im_file))\n",
    "            et.setTag()\n",
    "        else:\n",
    "            good_490.append((os.path.basename(im_file), cam_model))\n",
    "        "
   ]
  },
  {
   "cell_type": "code",
   "execution_count": 9,
   "metadata": {},
   "outputs": [],
   "source": []
  },
  {
   "cell_type": "code",
   "execution_count": 11,
   "metadata": {},
   "outputs": [
    {
     "ename": "RuntimeError",
     "evalue": "b'Error: File not found - C:/software/exiftool/P55000800_CALIBRATED.tif\\r\\n'",
     "output_type": "error",
     "traceback": [
      "\u001b[1;31m---------------------------------------------------------------------------\u001b[0m",
      "\u001b[1;31mRuntimeError\u001b[0m                              Traceback (most recent call last)",
      "\u001b[1;32m<ipython-input-11-e7f3bc628b33>\u001b[0m in \u001b[0;36m<module>\u001b[1;34m\u001b[0m\n\u001b[0;32m      1\u001b[0m \u001b[0mimg_exif\u001b[0m \u001b[1;33m=\u001b[0m \u001b[0mpyexif2\u001b[0m\u001b[1;33m.\u001b[0m\u001b[0mExifEditor\u001b[0m\u001b[1;33m(\u001b[0m\u001b[1;34mr\"C:\\software\\exiftool\\P55000800_CALIBRATED.tif\"\u001b[0m\u001b[1;33m)\u001b[0m\u001b[1;33m\u001b[0m\u001b[1;33m\u001b[0m\u001b[0m\n\u001b[1;32m----> 2\u001b[1;33m \u001b[0mprint\u001b[0m\u001b[1;33m(\u001b[0m\u001b[0mimg_exif\u001b[0m\u001b[1;33m.\u001b[0m\u001b[0mgetTag\u001b[0m\u001b[1;33m(\u001b[0m\u001b[1;34m'EXIF:Model'\u001b[0m\u001b[1;33m)\u001b[0m\u001b[1;33m)\u001b[0m\u001b[1;33m\u001b[0m\u001b[1;33m\u001b[0m\u001b[0m\n\u001b[0m",
      "\u001b[1;32mD:\\projects\\uav\\asprs2020\\notebooks\\pyexif2.py\u001b[0m in \u001b[0;36mgetTag\u001b[1;34m(self, tag, default)\u001b[0m\n\u001b[0;32m    217\u001b[0m         \"\"\"\n\u001b[0;32m    218\u001b[0m         \u001b[0mcmd\u001b[0m \u001b[1;33m=\u001b[0m \u001b[1;34m\"\"\"exiftool -j -d \"%Y:%m:%d %H:%M:%S\" -{tag} \"{self.photo}\" \"\"\"\u001b[0m\u001b[1;33m.\u001b[0m\u001b[0mformat\u001b[0m\u001b[1;33m(\u001b[0m\u001b[1;33m**\u001b[0m\u001b[0mlocals\u001b[0m\u001b[1;33m(\u001b[0m\u001b[1;33m)\u001b[0m\u001b[1;33m)\u001b[0m\u001b[1;33m\u001b[0m\u001b[1;33m\u001b[0m\u001b[0m\n\u001b[1;32m--> 219\u001b[1;33m         \u001b[0mout\u001b[0m \u001b[1;33m=\u001b[0m \u001b[0m_runproc\u001b[0m\u001b[1;33m(\u001b[0m\u001b[0mcmd\u001b[0m\u001b[1;33m,\u001b[0m \u001b[0mself\u001b[0m\u001b[1;33m.\u001b[0m\u001b[0mphoto\u001b[0m\u001b[1;33m)\u001b[0m\u001b[1;33m\u001b[0m\u001b[1;33m\u001b[0m\u001b[0m\n\u001b[0m\u001b[0;32m    220\u001b[0m         \u001b[1;32mif\u001b[0m \u001b[1;32mnot\u001b[0m \u001b[0misinstance\u001b[0m\u001b[1;33m(\u001b[0m\u001b[0mout\u001b[0m\u001b[1;33m,\u001b[0m \u001b[0msix\u001b[0m\u001b[1;33m.\u001b[0m\u001b[0mstring_types\u001b[0m\u001b[1;33m)\u001b[0m\u001b[1;33m:\u001b[0m\u001b[1;33m\u001b[0m\u001b[1;33m\u001b[0m\u001b[0m\n\u001b[0;32m    221\u001b[0m             \u001b[0mout\u001b[0m \u001b[1;33m=\u001b[0m \u001b[0mout\u001b[0m\u001b[1;33m.\u001b[0m\u001b[0mdecode\u001b[0m\u001b[1;33m(\u001b[0m\u001b[1;34m\"utf-8\"\u001b[0m\u001b[1;33m)\u001b[0m\u001b[1;33m\u001b[0m\u001b[1;33m\u001b[0m\u001b[0m\n",
      "\u001b[1;32mD:\\projects\\uav\\asprs2020\\notebooks\\pyexif2.py\u001b[0m in \u001b[0;36m_runproc\u001b[1;34m(cmd, fpath)\u001b[0m\n\u001b[0;32m     48\u001b[0m             \u001b[1;31m# Retry\u001b[0m\u001b[1;33m\u001b[0m\u001b[1;33m\u001b[0m\u001b[1;33m\u001b[0m\u001b[0m\n\u001b[0;32m     49\u001b[0m             \u001b[1;32mreturn\u001b[0m \u001b[0m_runproc\u001b[0m\u001b[1;33m(\u001b[0m\u001b[0mcmd\u001b[0m\u001b[1;33m,\u001b[0m \u001b[0mfpath\u001b[0m\u001b[1;33m)\u001b[0m\u001b[1;33m\u001b[0m\u001b[1;33m\u001b[0m\u001b[0m\n\u001b[1;32m---> 50\u001b[1;33m         \u001b[1;32mraise\u001b[0m \u001b[0mRuntimeError\u001b[0m\u001b[1;33m(\u001b[0m\u001b[0merr\u001b[0m\u001b[1;33m)\u001b[0m\u001b[1;33m\u001b[0m\u001b[1;33m\u001b[0m\u001b[0m\n\u001b[0m\u001b[0;32m     51\u001b[0m     \u001b[1;32melse\u001b[0m\u001b[1;33m:\u001b[0m\u001b[1;33m\u001b[0m\u001b[1;33m\u001b[0m\u001b[0m\n\u001b[0;32m     52\u001b[0m         \u001b[1;32mreturn\u001b[0m \u001b[0mproc\u001b[0m\u001b[1;33m.\u001b[0m\u001b[0mstdout\u001b[0m\u001b[1;33m.\u001b[0m\u001b[0mread\u001b[0m\u001b[1;33m(\u001b[0m\u001b[1;33m)\u001b[0m\u001b[1;33m\u001b[0m\u001b[1;33m\u001b[0m\u001b[0m\n",
      "\u001b[1;31mRuntimeError\u001b[0m: b'Error: File not found - C:/software/exiftool/P55000800_CALIBRATED.tif\\r\\n'"
     ]
    }
   ],
   "source": [
    "img_exif = pyexif2.ExifEditor(r\"C:\\software\\exiftool\\P55000800_CALIBRATED.tif\")\n",
    "print(img_exif.getTag('EXIF:Model'))"
   ]
  },
  {
   "cell_type": "code",
   "execution_count": null,
   "metadata": {},
   "outputs": [],
   "source": [
    "import subprocess \n",
    "cmd = \"exiftool(-k).exe -ver\"\n",
    "pipe = subprocess.PIPE\n",
    "proc = subprocess.Popen(cmd, shell=True, stdin=pipe, stdout=pipe, stderr=pipe)\n",
    "proc.wait()\n",
    "err = proc.stderr.read()"
   ]
  },
  {
   "cell_type": "code",
   "execution_count": null,
   "metadata": {},
   "outputs": [],
   "source": [
    "err"
   ]
  },
  {
   "cell_type": "code",
   "execution_count": null,
   "metadata": {},
   "outputs": [],
   "source": []
  }
 ],
 "metadata": {
  "kernelspec": {
   "display_name": "Python3 (eapy_gbdx)",
   "language": "python",
   "name": "eapy_gbdx"
  },
  "language_info": {
   "codemirror_mode": {
    "name": "ipython",
    "version": 3
   },
   "file_extension": ".py",
   "mimetype": "text/x-python",
   "name": "python",
   "nbconvert_exporter": "python",
   "pygments_lexer": "ipython3",
   "version": "3.6.7"
  }
 },
 "nbformat": 4,
 "nbformat_minor": 2
}
